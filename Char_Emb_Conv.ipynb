{
 "cells": [
  {
   "cell_type": "code",
   "execution_count": 7,
   "metadata": {},
   "outputs": [],
   "source": [
    "import tensorflow as tf\n",
    "import numpy as np\n",
    "import pandas as pd\n",
    "from matplotlib import pyplot as plt\n",
    "%matplotlib inline"
   ]
  },
  {
   "cell_type": "code",
   "execution_count": 5,
   "metadata": {},
   "outputs": [
    {
     "name": "stdout",
     "output_type": "stream",
     "text": [
      "Successfully downloaded dbpedia_csv.tar.gz 68431223 bytes.\n",
      "WARNING:tensorflow:From /home/nlp/anaconda3/lib/python3.6/site-packages/tensorflow/contrib/learn/python/learn/datasets/text_datasets.py:63: shrink_csv (from tensorflow.contrib.learn.python.learn.datasets.base) is deprecated and will be removed in a future version.\n",
      "Instructions for updating:\n",
      "Use tf.data instead.\n",
      "WARNING:tensorflow:From /home/nlp/anaconda3/lib/python3.6/site-packages/tensorflow/contrib/learn/python/learn/datasets/text_datasets.py:73: load_csv_without_header (from tensorflow.contrib.learn.python.learn.datasets.base) is deprecated and will be removed in a future version.\n",
      "Instructions for updating:\n",
      "Use tf.data instead.\n"
     ]
    }
   ],
   "source": [
    "dbpedia = tf.contrib.learn.datasets.load_dataset(\n",
    "      'dbpedia', test_with_fake_data=False, size='small')"
   ]
  },
  {
   "cell_type": "code",
   "execution_count": 12,
   "metadata": {},
   "outputs": [],
   "source": [
    "x_train = pd.DataFrame(dbpedia.train.data)[1]\n",
    "y_train = pd.Series(dbpedia.train.target)\n",
    "x_test = pd.DataFrame(dbpedia.test.data)[1]\n",
    "y_test = pd.Series(dbpedia.test.target)"
   ]
  },
  {
   "cell_type": "code",
   "execution_count": 15,
   "metadata": {},
   "outputs": [
    {
     "name": "stdout",
     "output_type": "stream",
     "text": [
      " Abbott of Farnham E D Abbott Limited was a British coachbuilding business based in Farnham Surrey trading under that name from 1929. A major part of their output was under sub-contract to motor vehicle manufacturers. Their business closed in 1972.\n",
      "248\n"
     ]
    }
   ],
   "source": [
    "print(x_train[0])\n",
    "print(len(x_train[0]))"
   ]
  },
  {
   "cell_type": "code",
   "execution_count": 14,
   "metadata": {},
   "outputs": [
    {
     "data": {
      "text/plain": [
       "1"
      ]
     },
     "execution_count": 14,
     "metadata": {},
     "output_type": "execute_result"
    }
   ],
   "source": [
    "y_train[0]"
   ]
  },
  {
   "cell_type": "code",
   "execution_count": 17,
   "metadata": {},
   "outputs": [
    {
     "data": {
      "text/plain": [
       "' Abbott of Farnham E D Abbott Limited was a British coachbuilding business based in Farnham Surrey trading under that name from 1929. A major part of their output was under sub-contract to motor vehicle manufacturers. Their business closed in 1972.'"
      ]
     },
     "execution_count": 17,
     "metadata": {},
     "output_type": "execute_result"
    }
   ],
   "source": [
    "x_train[0]"
   ]
  },
  {
   "cell_type": "code",
   "execution_count": 18,
   "metadata": {},
   "outputs": [],
   "source": [
    "# Process vocabulary\n",
    "MAX_DOCUMENT_LENGTH = 100\n",
    "char_processor = tf.contrib.learn.preprocessing.ByteProcessor(\n",
    "  MAX_DOCUMENT_LENGTH)\n",
    "x_train = np.array(list(char_processor.fit_transform(x_train)))\n",
    "x_test = np.array(list(char_processor.transform(x_test)))"
   ]
  },
  {
   "cell_type": "code",
   "execution_count": 19,
   "metadata": {},
   "outputs": [
    {
     "data": {
      "text/plain": [
       "array([ 32,  65,  98,  98, 111, 116, 116,  32, 111, 102,  32,  70,  97,\n",
       "       114, 110, 104,  97, 109,  32,  69,  32,  68,  32,  65,  98,  98,\n",
       "       111, 116, 116,  32,  76, 105, 109, 105, 116, 101, 100,  32, 119,\n",
       "        97, 115,  32,  97,  32,  66, 114, 105, 116, 105, 115, 104,  32,\n",
       "        99, 111,  97,  99, 104,  98, 117, 105, 108, 100, 105, 110, 103,\n",
       "        32,  98, 117, 115, 105, 110, 101, 115, 115,  32,  98,  97, 115,\n",
       "       101, 100,  32, 105, 110,  32,  70,  97, 114, 110, 104,  97, 109,\n",
       "        32,  83, 117, 114, 114, 101, 121,  32, 116], dtype=uint8)"
      ]
     },
     "execution_count": 19,
     "metadata": {},
     "output_type": "execute_result"
    }
   ],
   "source": [
    "x_train[0]"
   ]
  },
  {
   "cell_type": "code",
   "execution_count": null,
   "metadata": {},
   "outputs": [],
   "source": []
  },
  {
   "cell_type": "code",
   "execution_count": null,
   "metadata": {},
   "outputs": [],
   "source": []
  }
 ],
 "metadata": {
  "kernelspec": {
   "display_name": "Python 3",
   "language": "python",
   "name": "python3"
  },
  "language_info": {
   "codemirror_mode": {
    "name": "ipython",
    "version": 3
   },
   "file_extension": ".py",
   "mimetype": "text/x-python",
   "name": "python",
   "nbconvert_exporter": "python",
   "pygments_lexer": "ipython3",
   "version": "3.6.5"
  }
 },
 "nbformat": 4,
 "nbformat_minor": 2
}
